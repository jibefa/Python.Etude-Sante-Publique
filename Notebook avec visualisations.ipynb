{
 "cells": [
  {
   "cell_type": "markdown",
   "id": "60220d17",
   "metadata": {},
   "source": [
    "# Projet 4 - Etude de santé publique"
   ]
  },
  {
   "cell_type": "code",
   "execution_count": 43,
   "id": "951a3b7e",
   "metadata": {},
   "outputs": [],
   "source": [
    "import os\n",
    "import pandas as pd\n",
    "import matplotlib.pyplot as plt\n",
    "import numpy as np"
   ]
  },
  {
   "cell_type": "code",
   "execution_count": 44,
   "id": "3f27a4f8",
   "metadata": {},
   "outputs": [],
   "source": [
    "os.chdir(r\"C:\\Users\\jbfal\\OneDrive\\Bureau\\Open Classrooms\\Formation\\Projet 4 (27.06.2023)\\Données\")"
   ]
  },
  {
   "cell_type": "markdown",
   "id": "99a87658",
   "metadata": {},
   "source": [
    "### Lecture des tables"
   ]
  },
  {
   "cell_type": "code",
   "execution_count": 45,
   "id": "38e980ef",
   "metadata": {},
   "outputs": [],
   "source": [
    "aide_alimentaire = pd.read_csv(\"aide_alimentaire.csv\")\n",
    "dispo_alimentaire = pd.read_csv(\"dispo_alimentaire.csv\")\n",
    "population = pd.read_csv(\"population.csv\")\n",
    "sous_nutrition = pd.read_csv(\"sous_nutrition.csv\")\n",
    "pd.options.display.float_format = \"{:.3f}\".format"
   ]
  },
  {
   "cell_type": "markdown",
   "id": "b2ccba90",
   "metadata": {},
   "source": [
    "### Analyse exploratoire des données"
   ]
  },
  {
   "cell_type": "code",
   "execution_count": 46,
   "id": "de6efedc",
   "metadata": {},
   "outputs": [
    {
     "data": {
      "text/html": [
       "<div>\n",
       "<style scoped>\n",
       "    .dataframe tbody tr th:only-of-type {\n",
       "        vertical-align: middle;\n",
       "    }\n",
       "\n",
       "    .dataframe tbody tr th {\n",
       "        vertical-align: top;\n",
       "    }\n",
       "\n",
       "    .dataframe thead th {\n",
       "        text-align: right;\n",
       "    }\n",
       "</style>\n",
       "<table border=\"1\" class=\"dataframe\">\n",
       "  <thead>\n",
       "    <tr style=\"text-align: right;\">\n",
       "      <th></th>\n",
       "      <th>Zone</th>\n",
       "      <th>Année</th>\n",
       "      <th>Valeur</th>\n",
       "    </tr>\n",
       "  </thead>\n",
       "  <tbody>\n",
       "    <tr>\n",
       "      <th>0</th>\n",
       "      <td>Afghanistan</td>\n",
       "      <td>2013</td>\n",
       "      <td>32269.589</td>\n",
       "    </tr>\n",
       "    <tr>\n",
       "      <th>1</th>\n",
       "      <td>Afghanistan</td>\n",
       "      <td>2014</td>\n",
       "      <td>33370.794</td>\n",
       "    </tr>\n",
       "    <tr>\n",
       "      <th>2</th>\n",
       "      <td>Afghanistan</td>\n",
       "      <td>2015</td>\n",
       "      <td>34413.603</td>\n",
       "    </tr>\n",
       "    <tr>\n",
       "      <th>3</th>\n",
       "      <td>Afghanistan</td>\n",
       "      <td>2016</td>\n",
       "      <td>35383.032</td>\n",
       "    </tr>\n",
       "    <tr>\n",
       "      <th>4</th>\n",
       "      <td>Afghanistan</td>\n",
       "      <td>2017</td>\n",
       "      <td>36296.113</td>\n",
       "    </tr>\n",
       "  </tbody>\n",
       "</table>\n",
       "</div>"
      ],
      "text/plain": [
       "          Zone  Année    Valeur\n",
       "0  Afghanistan   2013 32269.589\n",
       "1  Afghanistan   2014 33370.794\n",
       "2  Afghanistan   2015 34413.603\n",
       "3  Afghanistan   2016 35383.032\n",
       "4  Afghanistan   2017 36296.113"
      ]
     },
     "execution_count": 46,
     "metadata": {},
     "output_type": "execute_result"
    }
   ],
   "source": [
    "population.head()"
   ]
  },
  {
   "cell_type": "code",
   "execution_count": 47,
   "id": "40724f0a",
   "metadata": {},
   "outputs": [
    {
     "name": "stdout",
     "output_type": "stream",
     "text": [
      "<class 'pandas.core.frame.DataFrame'>\n",
      "RangeIndex: 1475 entries, 0 to 1474\n",
      "Data columns (total 4 columns):\n",
      " #   Column             Non-Null Count  Dtype \n",
      "---  ------             --------------  ----- \n",
      " 0   Pays bénéficiaire  1475 non-null   object\n",
      " 1   Année              1475 non-null   int64 \n",
      " 2   Produit            1475 non-null   object\n",
      " 3   Valeur             1475 non-null   int64 \n",
      "dtypes: int64(2), object(2)\n",
      "memory usage: 46.2+ KB\n"
     ]
    }
   ],
   "source": [
    "aide_alimentaire.info()"
   ]
  },
  {
   "cell_type": "code",
   "execution_count": 48,
   "id": "6a36f4f6",
   "metadata": {},
   "outputs": [
    {
     "name": "stdout",
     "output_type": "stream",
     "text": [
      "<class 'pandas.core.frame.DataFrame'>\n",
      "RangeIndex: 15605 entries, 0 to 15604\n",
      "Data columns (total 18 columns):\n",
      " #   Column                                                         Non-Null Count  Dtype  \n",
      "---  ------                                                         --------------  -----  \n",
      " 0   Zone                                                           15605 non-null  object \n",
      " 1   Produit                                                        15605 non-null  object \n",
      " 2   Origine                                                        15605 non-null  object \n",
      " 3   Aliments pour animaux                                          2720 non-null   float64\n",
      " 4   Autres Utilisations                                            5496 non-null   float64\n",
      " 5   Disponibilité alimentaire (Kcal/personne/jour)                 14241 non-null  float64\n",
      " 6   Disponibilité alimentaire en quantité (kg/personne/an)         14015 non-null  float64\n",
      " 7   Disponibilité de matière grasse en quantité (g/personne/jour)  11794 non-null  float64\n",
      " 8   Disponibilité de protéines en quantité (g/personne/jour)       11561 non-null  float64\n",
      " 9   Disponibilité intérieure                                       15382 non-null  float64\n",
      " 10  Exportations - Quantité                                        12226 non-null  float64\n",
      " 11  Importations - Quantité                                        14852 non-null  float64\n",
      " 12  Nourriture                                                     14015 non-null  float64\n",
      " 13  Pertes                                                         4278 non-null   float64\n",
      " 14  Production                                                     9180 non-null   float64\n",
      " 15  Semences                                                       2091 non-null   float64\n",
      " 16  Traitement                                                     2292 non-null   float64\n",
      " 17  Variation de stock                                             6776 non-null   float64\n",
      "dtypes: float64(15), object(3)\n",
      "memory usage: 2.1+ MB\n"
     ]
    }
   ],
   "source": [
    "dispo_alimentaire.info()"
   ]
  },
  {
   "cell_type": "code",
   "execution_count": 49,
   "id": "ea2e5ee7",
   "metadata": {},
   "outputs": [
    {
     "name": "stdout",
     "output_type": "stream",
     "text": [
      "<class 'pandas.core.frame.DataFrame'>\n",
      "RangeIndex: 1416 entries, 0 to 1415\n",
      "Data columns (total 3 columns):\n",
      " #   Column  Non-Null Count  Dtype  \n",
      "---  ------  --------------  -----  \n",
      " 0   Zone    1416 non-null   object \n",
      " 1   Année   1416 non-null   int64  \n",
      " 2   Valeur  1416 non-null   float64\n",
      "dtypes: float64(1), int64(1), object(1)\n",
      "memory usage: 33.3+ KB\n"
     ]
    }
   ],
   "source": [
    "population.info()"
   ]
  },
  {
   "cell_type": "code",
   "execution_count": 50,
   "id": "b0e2d7c8",
   "metadata": {},
   "outputs": [
    {
     "name": "stdout",
     "output_type": "stream",
     "text": [
      "<class 'pandas.core.frame.DataFrame'>\n",
      "RangeIndex: 1218 entries, 0 to 1217\n",
      "Data columns (total 3 columns):\n",
      " #   Column  Non-Null Count  Dtype \n",
      "---  ------  --------------  ----- \n",
      " 0   Zone    1218 non-null   object\n",
      " 1   Année   1218 non-null   object\n",
      " 2   Valeur  624 non-null    object\n",
      "dtypes: object(3)\n",
      "memory usage: 28.7+ KB\n"
     ]
    }
   ],
   "source": [
    "sous_nutrition.info()"
   ]
  },
  {
   "cell_type": "markdown",
   "id": "aa9189c1",
   "metadata": {},
   "source": [
    "### Changement de nom des colonnes"
   ]
  },
  {
   "cell_type": "code",
   "execution_count": 51,
   "id": "1d6a0400",
   "metadata": {},
   "outputs": [],
   "source": [
    "dispo_alimentaire.rename({\"Zone\":\"Pays\"}, axis = 1, inplace = True)\n",
    "aide_alimentaire.rename({\"Pays bénéficiaire\":\"Pays\"}, axis = 1, inplace = True)\n",
    "aide_alimentaire.rename({\"Produit\":\"Type de produit\"}, axis = 1, inplace = True)\n",
    "aide_alimentaire.rename({\"Valeur\":\"Quantité\"}, axis = 1, inplace = True)\n",
    "population.rename({\"Zone\":\"Pays\"}, axis = 1, inplace = True)\n",
    "population.rename({\"Valeur\":\"Nombre habitants\"}, axis = 1, inplace = True)\n",
    "sous_nutrition.rename({\"Zone\":\"Pays\"}, axis = 1, inplace = True)\n",
    "sous_nutrition.rename({\"Valeur\":\"Nombre individus sous-alimentés\"}, axis= 1, inplace = True)"
   ]
  },
  {
   "cell_type": "code",
   "execution_count": 52,
   "id": "574ef86b",
   "metadata": {},
   "outputs": [
    {
     "data": {
      "text/html": [
       "<div>\n",
       "<style scoped>\n",
       "    .dataframe tbody tr th:only-of-type {\n",
       "        vertical-align: middle;\n",
       "    }\n",
       "\n",
       "    .dataframe tbody tr th {\n",
       "        vertical-align: top;\n",
       "    }\n",
       "\n",
       "    .dataframe thead th {\n",
       "        text-align: right;\n",
       "    }\n",
       "</style>\n",
       "<table border=\"1\" class=\"dataframe\">\n",
       "  <thead>\n",
       "    <tr style=\"text-align: right;\">\n",
       "      <th></th>\n",
       "      <th>Pays</th>\n",
       "      <th>Produit</th>\n",
       "      <th>Origine</th>\n",
       "      <th>Aliments pour animaux</th>\n",
       "      <th>Autres Utilisations</th>\n",
       "      <th>Disponibilité alimentaire (Kcal/personne/jour)</th>\n",
       "      <th>Disponibilité alimentaire en quantité (kg/personne/an)</th>\n",
       "      <th>Disponibilité de matière grasse en quantité (g/personne/jour)</th>\n",
       "      <th>Disponibilité de protéines en quantité (g/personne/jour)</th>\n",
       "      <th>Disponibilité intérieure</th>\n",
       "      <th>Exportations - Quantité</th>\n",
       "      <th>Importations - Quantité</th>\n",
       "      <th>Nourriture</th>\n",
       "      <th>Pertes</th>\n",
       "      <th>Production</th>\n",
       "      <th>Semences</th>\n",
       "      <th>Traitement</th>\n",
       "      <th>Variation de stock</th>\n",
       "    </tr>\n",
       "  </thead>\n",
       "  <tbody>\n",
       "    <tr>\n",
       "      <th>0</th>\n",
       "      <td>Afghanistan</td>\n",
       "      <td>Abats Comestible</td>\n",
       "      <td>animale</td>\n",
       "      <td>NaN</td>\n",
       "      <td>NaN</td>\n",
       "      <td>5.000</td>\n",
       "      <td>1.720</td>\n",
       "      <td>0.200</td>\n",
       "      <td>0.770</td>\n",
       "      <td>53.000</td>\n",
       "      <td>NaN</td>\n",
       "      <td>NaN</td>\n",
       "      <td>53.000</td>\n",
       "      <td>NaN</td>\n",
       "      <td>53.000</td>\n",
       "      <td>NaN</td>\n",
       "      <td>NaN</td>\n",
       "      <td>NaN</td>\n",
       "    </tr>\n",
       "    <tr>\n",
       "      <th>1</th>\n",
       "      <td>Afghanistan</td>\n",
       "      <td>Agrumes, Autres</td>\n",
       "      <td>vegetale</td>\n",
       "      <td>NaN</td>\n",
       "      <td>NaN</td>\n",
       "      <td>1.000</td>\n",
       "      <td>1.290</td>\n",
       "      <td>0.010</td>\n",
       "      <td>0.020</td>\n",
       "      <td>41.000</td>\n",
       "      <td>2.000</td>\n",
       "      <td>40.000</td>\n",
       "      <td>39.000</td>\n",
       "      <td>2.000</td>\n",
       "      <td>3.000</td>\n",
       "      <td>NaN</td>\n",
       "      <td>NaN</td>\n",
       "      <td>NaN</td>\n",
       "    </tr>\n",
       "    <tr>\n",
       "      <th>2</th>\n",
       "      <td>Afghanistan</td>\n",
       "      <td>Aliments pour enfants</td>\n",
       "      <td>vegetale</td>\n",
       "      <td>NaN</td>\n",
       "      <td>NaN</td>\n",
       "      <td>1.000</td>\n",
       "      <td>0.060</td>\n",
       "      <td>0.010</td>\n",
       "      <td>0.030</td>\n",
       "      <td>2.000</td>\n",
       "      <td>NaN</td>\n",
       "      <td>2.000</td>\n",
       "      <td>2.000</td>\n",
       "      <td>NaN</td>\n",
       "      <td>NaN</td>\n",
       "      <td>NaN</td>\n",
       "      <td>NaN</td>\n",
       "      <td>NaN</td>\n",
       "    </tr>\n",
       "    <tr>\n",
       "      <th>3</th>\n",
       "      <td>Afghanistan</td>\n",
       "      <td>Ananas</td>\n",
       "      <td>vegetale</td>\n",
       "      <td>NaN</td>\n",
       "      <td>NaN</td>\n",
       "      <td>0.000</td>\n",
       "      <td>0.000</td>\n",
       "      <td>NaN</td>\n",
       "      <td>NaN</td>\n",
       "      <td>0.000</td>\n",
       "      <td>NaN</td>\n",
       "      <td>0.000</td>\n",
       "      <td>0.000</td>\n",
       "      <td>NaN</td>\n",
       "      <td>NaN</td>\n",
       "      <td>NaN</td>\n",
       "      <td>NaN</td>\n",
       "      <td>NaN</td>\n",
       "    </tr>\n",
       "    <tr>\n",
       "      <th>4</th>\n",
       "      <td>Afghanistan</td>\n",
       "      <td>Bananes</td>\n",
       "      <td>vegetale</td>\n",
       "      <td>NaN</td>\n",
       "      <td>NaN</td>\n",
       "      <td>4.000</td>\n",
       "      <td>2.700</td>\n",
       "      <td>0.020</td>\n",
       "      <td>0.050</td>\n",
       "      <td>82.000</td>\n",
       "      <td>NaN</td>\n",
       "      <td>82.000</td>\n",
       "      <td>82.000</td>\n",
       "      <td>NaN</td>\n",
       "      <td>NaN</td>\n",
       "      <td>NaN</td>\n",
       "      <td>NaN</td>\n",
       "      <td>NaN</td>\n",
       "    </tr>\n",
       "  </tbody>\n",
       "</table>\n",
       "</div>"
      ],
      "text/plain": [
       "          Pays                Produit   Origine  Aliments pour animaux  \\\n",
       "0  Afghanistan       Abats Comestible   animale                    NaN   \n",
       "1  Afghanistan        Agrumes, Autres  vegetale                    NaN   \n",
       "2  Afghanistan  Aliments pour enfants  vegetale                    NaN   \n",
       "3  Afghanistan                 Ananas  vegetale                    NaN   \n",
       "4  Afghanistan                Bananes  vegetale                    NaN   \n",
       "\n",
       "   Autres Utilisations  Disponibilité alimentaire (Kcal/personne/jour)  \\\n",
       "0                  NaN                                           5.000   \n",
       "1                  NaN                                           1.000   \n",
       "2                  NaN                                           1.000   \n",
       "3                  NaN                                           0.000   \n",
       "4                  NaN                                           4.000   \n",
       "\n",
       "   Disponibilité alimentaire en quantité (kg/personne/an)  \\\n",
       "0                                              1.720        \n",
       "1                                              1.290        \n",
       "2                                              0.060        \n",
       "3                                              0.000        \n",
       "4                                              2.700        \n",
       "\n",
       "   Disponibilité de matière grasse en quantité (g/personne/jour)  \\\n",
       "0                                              0.200               \n",
       "1                                              0.010               \n",
       "2                                              0.010               \n",
       "3                                                NaN               \n",
       "4                                              0.020               \n",
       "\n",
       "   Disponibilité de protéines en quantité (g/personne/jour)  \\\n",
       "0                                              0.770          \n",
       "1                                              0.020          \n",
       "2                                              0.030          \n",
       "3                                                NaN          \n",
       "4                                              0.050          \n",
       "\n",
       "   Disponibilité intérieure  Exportations - Quantité  Importations - Quantité  \\\n",
       "0                    53.000                      NaN                      NaN   \n",
       "1                    41.000                    2.000                   40.000   \n",
       "2                     2.000                      NaN                    2.000   \n",
       "3                     0.000                      NaN                    0.000   \n",
       "4                    82.000                      NaN                   82.000   \n",
       "\n",
       "   Nourriture  Pertes  Production  Semences  Traitement  Variation de stock  \n",
       "0      53.000     NaN      53.000       NaN         NaN                 NaN  \n",
       "1      39.000   2.000       3.000       NaN         NaN                 NaN  \n",
       "2       2.000     NaN         NaN       NaN         NaN                 NaN  \n",
       "3       0.000     NaN         NaN       NaN         NaN                 NaN  \n",
       "4      82.000     NaN         NaN       NaN         NaN                 NaN  "
      ]
     },
     "execution_count": 52,
     "metadata": {},
     "output_type": "execute_result"
    }
   ],
   "source": [
    "dispo_alimentaire.head()"
   ]
  },
  {
   "attachments": {},
   "cell_type": "markdown",
   "id": "4fe61f61",
   "metadata": {},
   "source": [
    "## Proportion de personnes en état de sous-nutrition en 2017 :"
   ]
  },
  {
   "cell_type": "code",
   "execution_count": 57,
   "id": "dc09f26f",
   "metadata": {},
   "outputs": [
    {
     "name": "stdout",
     "output_type": "stream",
     "text": [
      "Le nombre de personnes qui sont en état de sous-nutrition en 2017 est de 535.7 millions.\n"
     ]
    }
   ],
   "source": [
    "sous_nutrition_2017 = sous_nutrition[sous_nutrition[\"Année\"] == \"2016-2018\"]\n",
    "sous_nutrition_2017 = sous_nutrition_2017[sous_nutrition_2017[\"Nombre individus sous-alimentés\"] != \"<0.1\"]\n",
    "sous_nutrition_2017[\"Nombre individus sous-alimentés\"] = sous_nutrition_2017[\"Nombre individus sous-alimentés\"].astype(float)\n",
    "nombre_pour_2017 = sous_nutrition_2017[\"Nombre individus sous-alimentés\"].sum()\n",
    "nombre_arrondi_pour_2017 = round(nombre_pour_2017, 6)\n",
    "print(\"Le nombre de personnes qui sont en état de sous-nutrition en 2017 est de {:.1f} millions.\".format(nombre_arrondi_pour_2017))"
   ]
  },
  {
   "cell_type": "code",
   "execution_count": 12,
   "id": "1fcb9c41",
   "metadata": {},
   "outputs": [
    {
     "data": {
      "text/html": [
       "<div>\n",
       "<style scoped>\n",
       "    .dataframe tbody tr th:only-of-type {\n",
       "        vertical-align: middle;\n",
       "    }\n",
       "\n",
       "    .dataframe tbody tr th {\n",
       "        vertical-align: top;\n",
       "    }\n",
       "\n",
       "    .dataframe thead th {\n",
       "        text-align: right;\n",
       "    }\n",
       "</style>\n",
       "<table border=\"1\" class=\"dataframe\">\n",
       "  <thead>\n",
       "    <tr style=\"text-align: right;\">\n",
       "      <th></th>\n",
       "      <th>Pays</th>\n",
       "      <th>Année</th>\n",
       "      <th>Nombre habitants</th>\n",
       "    </tr>\n",
       "  </thead>\n",
       "  <tbody>\n",
       "    <tr>\n",
       "      <th>0</th>\n",
       "      <td>Afghanistan</td>\n",
       "      <td>2013</td>\n",
       "      <td>32269.589</td>\n",
       "    </tr>\n",
       "    <tr>\n",
       "      <th>1</th>\n",
       "      <td>Afghanistan</td>\n",
       "      <td>2014</td>\n",
       "      <td>33370.794</td>\n",
       "    </tr>\n",
       "    <tr>\n",
       "      <th>2</th>\n",
       "      <td>Afghanistan</td>\n",
       "      <td>2015</td>\n",
       "      <td>34413.603</td>\n",
       "    </tr>\n",
       "    <tr>\n",
       "      <th>3</th>\n",
       "      <td>Afghanistan</td>\n",
       "      <td>2016</td>\n",
       "      <td>35383.032</td>\n",
       "    </tr>\n",
       "    <tr>\n",
       "      <th>4</th>\n",
       "      <td>Afghanistan</td>\n",
       "      <td>2017</td>\n",
       "      <td>36296.113</td>\n",
       "    </tr>\n",
       "  </tbody>\n",
       "</table>\n",
       "</div>"
      ],
      "text/plain": [
       "          Pays  Année  Nombre habitants\n",
       "0  Afghanistan   2013         32269.589\n",
       "1  Afghanistan   2014         33370.794\n",
       "2  Afghanistan   2015         34413.603\n",
       "3  Afghanistan   2016         35383.032\n",
       "4  Afghanistan   2017         36296.113"
      ]
     },
     "execution_count": 12,
     "metadata": {},
     "output_type": "execute_result"
    }
   ],
   "source": [
    "population.head()"
   ]
  },
  {
   "cell_type": "code",
   "execution_count": 13,
   "id": "77d0da64",
   "metadata": {},
   "outputs": [
    {
     "name": "stdout",
     "output_type": "stream",
     "text": [
      "7.1% de la population mondiale est en état de sous-nutrition en 2017.\n"
     ]
    }
   ],
   "source": [
    "population[\"Nombre habitants\"] = population[\"Nombre habitants\"] / 1000\n",
    "population_2017 = population[population[\"Année\"] == 2017][\"Nombre habitants\"].sum()\n",
    "proportion_totale = (nombre_arrondi_pour_2017 / population_2017) * 100\n",
    "proportion_arrondie_pour_2017 = round(proportion_totale, 2)\n",
    "print(\"{}% de la population mondiale est en état de sous-nutrition en 2017.\".format(proportion_arrondie_pour_2017))"
   ]
  },
  {
   "attachments": {},
   "cell_type": "markdown",
   "id": "0be2c9ef",
   "metadata": {},
   "source": [
    "## Nombre théorique de personnes qui pourraient être nourries en 2017 :"
   ]
  },
  {
   "cell_type": "code",
   "execution_count": 14,
   "id": "d556182d",
   "metadata": {},
   "outputs": [
    {
     "name": "stdout",
     "output_type": "stream",
     "text": [
      "Le nombre de personnes qui pourraient être nourries en 2017 est de 8.368 milliards.\n"
     ]
    }
   ],
   "source": [
    "population_2017_2 = population[population[\"Année\"] == 2017]\n",
    "fusion_requete_2 = pd.merge(dispo_alimentaire, population_2017_2, on=[\"Pays\"])\n",
    "fusion_requete_2[\"Disponibilité_totale\"] = fusion_requete_2[\"Disponibilité alimentaire (Kcal/personne/jour)\"] * fusion_requete_2[\"Nombre habitants\"] / 2500\n",
    "nombre_personnes_nourries = fusion_requete_2[\"Disponibilité_totale\"].sum() / 1000\n",
    "print(\"Le nombre de personnes qui pourraient être nourries en 2017 est de {:.3f} milliards.\".format(nombre_personnes_nourries))"
   ]
  },
  {
   "cell_type": "code",
   "execution_count": 15,
   "id": "5928bf95",
   "metadata": {},
   "outputs": [
    {
     "name": "stdout",
     "output_type": "stream",
     "text": [
      "110.9% de la population mondiale pourrait théoriquement être nourrie en 2017.\n"
     ]
    }
   ],
   "source": [
    "pour_calcul_2 = population_2017_2.sum()\n",
    "proportion_chiffre_theorique = (nombre_personnes_nourries / pour_calcul_2[\"Nombre habitants\"]) * 100000\n",
    "chiffre_nourris_arrondi_pour_2017 = round(proportion_chiffre_theorique, 1)\n",
    "print(\"{}% de la population mondiale pourrait théoriquement être nourrie en 2017.\".format(chiffre_nourris_arrondi_pour_2017))"
   ]
  },
  {
   "attachments": {},
   "cell_type": "markdown",
   "id": "46d38626",
   "metadata": {},
   "source": [
    "## Nombre théorique de personnes qui pourraient être nourries uniquement avec les végétaux en 2017 :"
   ]
  },
  {
   "cell_type": "code",
   "execution_count": 16,
   "id": "b761a49c",
   "metadata": {},
   "outputs": [
    {
     "name": "stdout",
     "output_type": "stream",
     "text": [
      "Le nombre d'individus qui pourraient être nourris avec uniquement des végétaux en 2017 est de 6.904 milliards.\n"
     ]
    }
   ],
   "source": [
    "dispo_alimentaire_vegetale = dispo_alimentaire[dispo_alimentaire[\"Origine\"] == \"vegetale\"]\n",
    "fusion_requete_3 = pd.merge(dispo_alimentaire_vegetale, population_2017_2, on=[\"Pays\"])\n",
    "fusion_requete_3[\"Disponibilité_végétale\"] = fusion_requete_3[\"Disponibilité alimentaire (Kcal/personne/jour)\"] * fusion_requete_3[\"Nombre habitants\"] / 2500\n",
    "nombre_personnes_nourries_vegetaux = fusion_requete_3[\"Disponibilité_végétale\"].sum() / 1000\n",
    "print(\"Le nombre d'individus qui pourraient être nourris avec uniquement des végétaux en 2017 est de {:.3f} milliards.\".format(nombre_personnes_nourries_vegetaux))"
   ]
  },
  {
   "cell_type": "code",
   "execution_count": 17,
   "id": "ca14cfcd",
   "metadata": {},
   "outputs": [
    {
     "name": "stdout",
     "output_type": "stream",
     "text": [
      "91.5% de la population mondiale pourrait théoriquement être nourrie avec uniquement des végétaux en 2017.\n"
     ]
    }
   ],
   "source": [
    "proportion_chiffre_theorique_vegetaux = (nombre_personnes_nourries_vegetaux / pour_calcul_2[\"Nombre habitants\"]) * 100000\n",
    "chiffre_nourris_vegetaux_arrondi_pour_2017 = round(proportion_chiffre_theorique_vegetaux, 1)\n",
    "print(\"{}% de la population mondiale pourrait théoriquement être nourrie avec uniquement des végétaux en 2017.\".format(chiffre_nourris_vegetaux_arrondi_pour_2017))"
   ]
  },
  {
   "cell_type": "markdown",
   "id": "7f6b49fc",
   "metadata": {},
   "source": [
    "## Proportion de chaque catégorie dans la disponibilité intérieure :"
   ]
  },
  {
   "cell_type": "code",
   "execution_count": 18,
   "id": "df8d0a7d",
   "metadata": {},
   "outputs": [
    {
     "name": "stdout",
     "output_type": "stream",
     "text": [
      "Semences: 1.57%\n",
      "Pertes: 4.61%\n",
      "Nourriture: 49.51%\n",
      "Aliments pour animaux: 13.24%\n",
      "Traitement: 22.38%\n",
      "Autres Utilisations: 8.78%\n"
     ]
    }
   ],
   "source": [
    "categories_requete4 = [\"Semences\", \"Pertes\", \"Nourriture\", \"Aliments pour animaux\", \"Traitement\", \"Autres Utilisations\"]\n",
    "resultats_requete4 = {}\n",
    "\n",
    "for categorie in categories_requete4:\n",
    "    somme_categorie_r4 = dispo_alimentaire[categorie].sum()\n",
    "\n",
    "    pourcentage_dispo_int = (somme_categorie_r4 / dispo_alimentaire[\"Disponibilité intérieure\"].sum()) * 100\n",
    "    resultats_requete4[categorie] = pourcentage_dispo_int\n",
    "\n",
    "for categorie, pourcentage_dispo_int in resultats_requete4.items():\n",
    "    print(f\"{categorie}: {pourcentage_dispo_int:.2f}%\")"
   ]
  },
  {
   "cell_type": "markdown",
   "id": "c5f22b51",
   "metadata": {},
   "source": [
    "#### Graphique"
   ]
  },
  {
   "cell_type": "code",
   "execution_count": 19,
   "id": "a9afcaff",
   "metadata": {},
   "outputs": [
    {
     "data": {
      "image/png": "[encoded data removed]",
      "text/plain": [
       "<Figure size 640x480 with 1 Axes>"
      ]
     },
     "metadata": {},
     "output_type": "display_data"
    }
   ],
   "source": [
    "pourcentages_graph4 = list(resultats_requete4.values())\n",
    "labels_graph4 = list(resultats_requete4.keys())\n",
    "plt.pie(pourcentages_graph4, labels=labels_graph4, autopct=\"%.1f%%\")\n",
    "plt.title(\"Proportion de chaque catégorie dans la disponibilité intérieure\")\n",
    "plt.show()"
   ]
  },
  {
   "cell_type": "markdown",
   "id": "c9acb809",
   "metadata": {},
   "source": [
    "## La part de l'utilisation des principales céréales entre l'alimentation humaine et animale :"
   ]
  },
  {
   "cell_type": "code",
   "execution_count": 20,
   "id": "2652c10a",
   "metadata": {
    "scrolled": false
   },
   "outputs": [
    {
     "name": "stdout",
     "output_type": "stream",
     "text": [
      "La part de l'utilisation de la céréale Blé entre l'alimentation humaine et animale est donc respectivement de :\n",
      "77.93% pour l'alimentation humaine\n",
      "22.07% pour l'alimentation animale\n",
      "\n",
      "La part de l'utilisation de la céréale Riz (Eq Blanchi) entre l'alimentation humaine et animale est donc respectivement de :\n",
      "91.82% pour l'alimentation humaine\n",
      "8.18% pour l'alimentation animale\n",
      "\n",
      "La part de l'utilisation de la céréale Orge entre l'alimentation humaine et animale est donc respectivement de :\n",
      "6.83% pour l'alimentation humaine\n",
      "93.17% pour l'alimentation animale\n",
      "\n",
      "La part de l'utilisation de la céréale Maïs entre l'alimentation humaine et animale est donc respectivement de :\n",
      "18.65% pour l'alimentation humaine\n",
      "81.35% pour l'alimentation animale\n",
      "\n",
      "La part de l'utilisation de la céréale Seigle entre l'alimentation humaine et animale est donc respectivement de :\n",
      "40.45% pour l'alimentation humaine\n",
      "59.55% pour l'alimentation animale\n",
      "\n",
      "La part de l'utilisation de la céréale Avoine entre l'alimentation humaine et animale est donc respectivement de :\n",
      "19.37% pour l'alimentation humaine\n",
      "80.63% pour l'alimentation animale\n",
      "\n",
      "La part de l'utilisation de la céréale Millet entre l'alimentation humaine et animale est donc respectivement de :\n",
      "87.45% pour l'alimentation humaine\n",
      "12.55% pour l'alimentation animale\n",
      "\n",
      "La part de l'utilisation de la céréale Sorgho entre l'alimentation humaine et animale est donc respectivement de :\n",
      "49.33% pour l'alimentation humaine\n",
      "50.67% pour l'alimentation animale\n",
      "\n",
      "La part de l'utilisation de la céréale Céréales, Autres entre l'alimentation humaine et animale est donc respectivement de :\n",
      "21.86% pour l'alimentation humaine\n",
      "78.14% pour l'alimentation animale\n",
      "\n",
      "La part totale de l'utilisation des principales céréales entre l'alimentation humaine et animale est donc respectivement de :\n",
      "54.09% pour l'alimentation humaine\n",
      "45.91% pour l'alimentation animale\n"
     ]
    }
   ],
   "source": [
    "cereales_r5 = [\"Blé\", \"Riz (Eq Blanchi)\", \"Orge\", \"Maïs\", \"Seigle\", \"Avoine\", \"Millet\", \"Sorgho\", \"Céréales, Autres\"]\n",
    "\n",
    "total_utilisation_humaine = 0\n",
    "total_utilisation_animale = 0\n",
    "\n",
    "for cereale in cereales_r5:\n",
    "    cereale_apres_filtrage = dispo_alimentaire[\"Produit\"] == cereale\n",
    "    donnees_cereales_r5 = dispo_alimentaire[cereale_apres_filtrage]\n",
    "\n",
    "    utilisation_conso_humaine = donnees_cereales_r5[\"Nourriture\"].sum()\n",
    "    utilisation_conso_animale = donnees_cereales_r5[\"Aliments pour animaux\"].sum()\n",
    "\n",
    "    total_toutes_utilisations = utilisation_conso_humaine + utilisation_conso_animale\n",
    "\n",
    "    total_utilisation_humaine += utilisation_conso_humaine\n",
    "    total_utilisation_animale += utilisation_conso_animale\n",
    "\n",
    "    part_utilisation_humaine = utilisation_conso_humaine / total_toutes_utilisations * 100\n",
    "    part_utilisation_animale = utilisation_conso_animale / total_toutes_utilisations * 100\n",
    "\n",
    "    print(\"La part de l'utilisation de la céréale\", cereale, \"entre l'alimentation humaine et animale est donc respectivement de :\")\n",
    "    print(\"{:.2f}% pour l'alimentation humaine\".format(part_utilisation_humaine))\n",
    "    print(\"{:.2f}% pour l'alimentation animale\".format(part_utilisation_animale))\n",
    "    print()\n",
    "\n",
    "utilisation_generale_humaine = total_utilisation_humaine / (total_utilisation_humaine + total_utilisation_animale) * 100\n",
    "utilisation_generale_animale = total_utilisation_animale / (total_utilisation_humaine + total_utilisation_animale) * 100\n",
    "    \n",
    "print(\"La part totale de l'utilisation des principales céréales entre l'alimentation humaine et animale est donc respectivement de :\")\n",
    "print(\"{:.2f}% pour l'alimentation humaine\".format(utilisation_generale_humaine))\n",
    "print(\"{:.2f}% pour l'alimentation animale\".format(utilisation_generale_animale))"
   ]
  },
  {
   "cell_type": "markdown",
   "id": "04ed67a8",
   "metadata": {},
   "source": [
    "#### Graphique"
   ]
  },
  {
   "cell_type": "code",
   "execution_count": 21,
   "id": "2875dc34",
   "metadata": {
    "scrolled": false
   },
   "outputs": [
    {
     "data": {
      "image/png": "[encoded data removed]",
      "text/plain": [
       "<Figure size 640x480 with 1 Axes>"
      ]
     },
     "metadata": {},
     "output_type": "display_data"
    }
   ],
   "source": [
    "labels = [\"Alimentation humaine\", \"Alimentation animale\"]\n",
    "sizes = [utilisation_generale_humaine, utilisation_generale_animale]\n",
    "\n",
    "plt.pie(sizes, labels = labels, autopct = \"%1.1f%%\")\n",
    "plt.show()"
   ]
  },
  {
   "cell_type": "markdown",
   "id": "251ef434",
   "metadata": {},
   "source": [
    "## Top 10 des pays avec la plus haute proportion de sous-nutrition en 2017 :"
   ]
  },
  {
   "cell_type": "code",
   "execution_count": 22,
   "id": "f588094f",
   "metadata": {},
   "outputs": [
    {
     "data": {
      "text/html": [
       "<div>\n",
       "<style scoped>\n",
       "    .dataframe tbody tr th:only-of-type {\n",
       "        vertical-align: middle;\n",
       "    }\n",
       "\n",
       "    .dataframe tbody tr th {\n",
       "        vertical-align: top;\n",
       "    }\n",
       "\n",
       "    .dataframe thead th {\n",
       "        text-align: right;\n",
       "    }\n",
       "</style>\n",
       "<table border=\"1\" class=\"dataframe\">\n",
       "  <thead>\n",
       "    <tr style=\"text-align: right;\">\n",
       "      <th></th>\n",
       "      <th>Pays</th>\n",
       "      <th>Proportion sous-nutrition</th>\n",
       "    </tr>\n",
       "  </thead>\n",
       "  <tbody>\n",
       "    <tr>\n",
       "      <th>69</th>\n",
       "      <td>Haïti</td>\n",
       "      <td>48.259</td>\n",
       "    </tr>\n",
       "    <tr>\n",
       "      <th>142</th>\n",
       "      <td>République populaire démocratique de Corée</td>\n",
       "      <td>47.189</td>\n",
       "    </tr>\n",
       "    <tr>\n",
       "      <th>96</th>\n",
       "      <td>Madagascar</td>\n",
       "      <td>41.063</td>\n",
       "    </tr>\n",
       "    <tr>\n",
       "      <th>92</th>\n",
       "      <td>Libéria</td>\n",
       "      <td>38.280</td>\n",
       "    </tr>\n",
       "    <tr>\n",
       "      <th>89</th>\n",
       "      <td>Lesotho</td>\n",
       "      <td>38.249</td>\n",
       "    </tr>\n",
       "    <tr>\n",
       "      <th>165</th>\n",
       "      <td>Tchad</td>\n",
       "      <td>37.958</td>\n",
       "    </tr>\n",
       "    <tr>\n",
       "      <th>146</th>\n",
       "      <td>Rwanda</td>\n",
       "      <td>35.056</td>\n",
       "    </tr>\n",
       "    <tr>\n",
       "      <th>108</th>\n",
       "      <td>Mozambique</td>\n",
       "      <td>32.811</td>\n",
       "    </tr>\n",
       "    <tr>\n",
       "      <th>168</th>\n",
       "      <td>Timor-Leste</td>\n",
       "      <td>32.174</td>\n",
       "    </tr>\n",
       "    <tr>\n",
       "      <th>0</th>\n",
       "      <td>Afghanistan</td>\n",
       "      <td>28.929</td>\n",
       "    </tr>\n",
       "  </tbody>\n",
       "</table>\n",
       "</div>"
      ],
      "text/plain": [
       "                                           Pays  Proportion sous-nutrition\n",
       "69                                        Haïti                     48.259\n",
       "142  République populaire démocratique de Corée                     47.189\n",
       "96                                   Madagascar                     41.063\n",
       "92                                      Libéria                     38.280\n",
       "89                                      Lesotho                     38.249\n",
       "165                                       Tchad                     37.958\n",
       "146                                      Rwanda                     35.056\n",
       "108                                  Mozambique                     32.811\n",
       "168                                 Timor-Leste                     32.174\n",
       "0                                   Afghanistan                     28.929"
      ]
     },
     "execution_count": 22,
     "metadata": {},
     "output_type": "execute_result"
    }
   ],
   "source": [
    "fusion_requete_6 = pd.merge(sous_nutrition_2017, population_2017_2, on = \"Pays\")\n",
    "fusion_requete_6[\"Proportion sous-nutrition\"] = (fusion_requete_6[\"Nombre individus sous-alimentés\"] / fusion_requete_6[\"Nombre habitants\"]) * 100\n",
    "top_10_pays_r6 = fusion_requete_6.sort_values(\"Proportion sous-nutrition\", ascending = False).head(10)\n",
    "top_10_pays_r6 = top_10_pays_r6[[\"Pays\", \"Proportion sous-nutrition\"]]\n",
    "top_10_pays_r6.head(10)"
   ]
  },
  {
   "cell_type": "markdown",
   "id": "a1a6fbef",
   "metadata": {},
   "source": [
    "#### Graphique"
   ]
  },
  {
   "cell_type": "code",
   "execution_count": 23,
   "id": "b7f50bb1",
   "metadata": {},
   "outputs": [
    {
     "data": {
      "text/plain": [
       "Text(0, 0.5, 'Pays')"
      ]
     },
     "execution_count": 23,
     "metadata": {},
     "output_type": "execute_result"
    },
    {
     "data": {
      "image/png": "[encoded data removed]",
      "text/plain": [
       "<Figure size 640x480 with 1 Axes>"
      ]
     },
     "metadata": {},
     "output_type": "display_data"
    }
   ],
   "source": [
    "plt.barh(top_10_pays_r6[\"Pays\"][::-1], top_10_pays_r6[\"Proportion sous-nutrition\"][::-1])\n",
    "plt.title(\"Top 10 des pays avec la plus haute proportion de sous-nutrition en 2017\\n\")\n",
    "plt.xlabel(\"Proportion de sous-nutrition (%)\")\n",
    "plt.ylabel(\"Pays\")"
   ]
  },
  {
   "cell_type": "markdown",
   "id": "449ca517",
   "metadata": {},
   "source": [
    "## Top 10 des pays ayant reçu le plus d'aide alimentaire entre 2013 et 2016 :"
   ]
  },
  {
   "cell_type": "code",
   "execution_count": 24,
   "id": "6a1916ac",
   "metadata": {},
   "outputs": [
    {
     "data": {
      "text/plain": [
       "Pays\n",
       "République arabe syrienne           1858943\n",
       "Éthiopie                            1381294\n",
       "Yémen                               1206484\n",
       "Soudan du Sud                        695248\n",
       "Soudan                               669784\n",
       "Kenya                                552836\n",
       "Bangladesh                           348188\n",
       "Somalie                              292678\n",
       "République démocratique du Congo     288502\n",
       "Niger                                276344\n",
       "Name: Quantité, dtype: int64"
      ]
     },
     "execution_count": 24,
     "metadata": {},
     "output_type": "execute_result"
    }
   ],
   "source": [
    "periode_2013a2016 = aide_alimentaire[aide_alimentaire[\"Année\"].between(2013, 2016)]\n",
    "aide_total_par_pays = periode_2013a2016.groupby(\"Pays\")[\"Quantité\"].sum()\n",
    "aide_total_par_pays = aide_total_par_pays.sort_values(ascending = False).head(10)\n",
    "aide_total_par_pays.head(10)"
   ]
  },
  {
   "cell_type": "markdown",
   "id": "6a3cd52b",
   "metadata": {},
   "source": [
    "#### Graphique"
   ]
  },
  {
   "cell_type": "code",
   "execution_count": 25,
   "id": "c499d94a",
   "metadata": {},
   "outputs": [
    {
     "data": {
      "image/png": "[encoded data removed]",
      "text/plain": [
       "<Figure size 640x480 with 1 Axes>"
      ]
     },
     "metadata": {},
     "output_type": "display_data"
    }
   ],
   "source": [
    "x7 = aide_total_par_pays\n",
    "x7.head(10)[::-1].plot(kind = \"barh\")\n",
    "plt.title(\"Top 10 des pays ayant reçu le plus d'aide alimentaire entre 2013 et 2016\\n\")\n",
    "plt.xlabel(\"Quantité (en millions de tonnes)\")\n",
    "plt.ylabel(\"Pays\")\n",
    "plt.show()"
   ]
  },
  {
   "cell_type": "markdown",
   "id": "ff33e857",
   "metadata": {},
   "source": [
    "## Evolution de l'aide alimentaire de 2013 à 2015 :"
   ]
  },
  {
   "cell_type": "code",
   "execution_count": 26,
   "id": "595321a6",
   "metadata": {},
   "outputs": [
    {
     "name": "stdout",
     "output_type": "stream",
     "text": [
      "       République arabe syrienne  Éthiopie  Yémen  Soudan du Sud  Soudan\n",
      "Année                                                                   \n",
      "2013                         NaN       NaN    NaN            NaN     NaN\n",
      "2015                      -6.852   -65.630 40.618        -75.394 -94.655\n"
     ]
    }
   ],
   "source": [
    "pays_liste_requete8 = [\"République arabe syrienne\", \"Éthiopie\", \"Yémen\", \"Soudan du Sud\", \"Soudan\"]\n",
    "resultats_requete8 = pd.DataFrame()\n",
    "\n",
    "for pays in pays_liste_requete8:\n",
    "    aide_alimentaire_pays_requete8 = aide_alimentaire[(aide_alimentaire[\"Pays\"] == pays) & (aide_alimentaire[\"Année\"])]\n",
    "\n",
    "    total_aide_alimentaire_r8 = aide_alimentaire_pays_requete8.groupby(\"Année\")[\"Quantité\"].sum()\n",
    "    evolution_pays_requete8 = total_aide_alimentaire_r8.pct_change() * 100\n",
    "    resultats_requete8[pays] = evolution_pays_requete8\n",
    "\n",
    "print(resultats_requete8)"
   ]
  },
  {
   "cell_type": "markdown",
   "id": "9567d187",
   "metadata": {},
   "source": [
    "#### Graphique"
   ]
  },
  {
   "cell_type": "code",
   "execution_count": 27,
   "id": "6b979b44",
   "metadata": {},
   "outputs": [
    {
     "data": {
      "image/png": "[encoded data removed]",
      "text/plain": [
       "<Figure size 640x480 with 1 Axes>"
      ]
     },
     "metadata": {},
     "output_type": "display_data"
    }
   ],
   "source": [
    "donnees_2015_graph = resultats_requete8.loc[2015]\n",
    "donnees_2015_graph = donnees_2015_graph.sort_values(ascending = False)\n",
    "donnees_2015_graph.plot(kind = \"barh\")\n",
    "plt.title(\"Évolution de l'aide alimentaire de 2013 à 2015\\n\")\n",
    "plt.xlabel(\"Pays\")\n",
    "plt.ylabel(\"Variation en pourcentage\")\n",
    "plt.show()"
   ]
  },
  {
   "cell_type": "markdown",
   "id": "5939adca",
   "metadata": {},
   "source": [
    "## Top 10 des pays avec la plus forte/faible disponibilité alimentaire par habitant :"
   ]
  },
  {
   "cell_type": "markdown",
   "id": "aba865ac",
   "metadata": {},
   "source": [
    "### Plus forte disponibilité alimentaire"
   ]
  },
  {
   "cell_type": "code",
   "execution_count": 28,
   "id": "b8b69fa7",
   "metadata": {
    "scrolled": true
   },
   "outputs": [
    {
     "data": {
      "text/html": [
       "<div>\n",
       "<style scoped>\n",
       "    .dataframe tbody tr th:only-of-type {\n",
       "        vertical-align: middle;\n",
       "    }\n",
       "\n",
       "    .dataframe tbody tr th {\n",
       "        vertical-align: top;\n",
       "    }\n",
       "\n",
       "    .dataframe thead th {\n",
       "        text-align: right;\n",
       "    }\n",
       "</style>\n",
       "<table border=\"1\" class=\"dataframe\">\n",
       "  <thead>\n",
       "    <tr style=\"text-align: right;\">\n",
       "      <th></th>\n",
       "      <th>Pays</th>\n",
       "      <th>Disponibilité alimentaire (Kcal/personne/jour)</th>\n",
       "    </tr>\n",
       "  </thead>\n",
       "  <tbody>\n",
       "    <tr>\n",
       "      <th>11</th>\n",
       "      <td>Autriche</td>\n",
       "      <td>3770.000</td>\n",
       "    </tr>\n",
       "    <tr>\n",
       "      <th>16</th>\n",
       "      <td>Belgique</td>\n",
       "      <td>3737.000</td>\n",
       "    </tr>\n",
       "    <tr>\n",
       "      <th>159</th>\n",
       "      <td>Turquie</td>\n",
       "      <td>3708.000</td>\n",
       "    </tr>\n",
       "    <tr>\n",
       "      <th>171</th>\n",
       "      <td>États-Unis d'Amérique</td>\n",
       "      <td>3682.000</td>\n",
       "    </tr>\n",
       "    <tr>\n",
       "      <th>74</th>\n",
       "      <td>Israël</td>\n",
       "      <td>3610.000</td>\n",
       "    </tr>\n",
       "    <tr>\n",
       "      <th>72</th>\n",
       "      <td>Irlande</td>\n",
       "      <td>3602.000</td>\n",
       "    </tr>\n",
       "    <tr>\n",
       "      <th>75</th>\n",
       "      <td>Italie</td>\n",
       "      <td>3578.000</td>\n",
       "    </tr>\n",
       "    <tr>\n",
       "      <th>89</th>\n",
       "      <td>Luxembourg</td>\n",
       "      <td>3540.000</td>\n",
       "    </tr>\n",
       "    <tr>\n",
       "      <th>168</th>\n",
       "      <td>Égypte</td>\n",
       "      <td>3518.000</td>\n",
       "    </tr>\n",
       "    <tr>\n",
       "      <th>4</th>\n",
       "      <td>Allemagne</td>\n",
       "      <td>3503.000</td>\n",
       "    </tr>\n",
       "  </tbody>\n",
       "</table>\n",
       "</div>"
      ],
      "text/plain": [
       "                      Pays  Disponibilité alimentaire (Kcal/personne/jour)\n",
       "11                Autriche                                        3770.000\n",
       "16                Belgique                                        3737.000\n",
       "159                Turquie                                        3708.000\n",
       "171  États-Unis d'Amérique                                        3682.000\n",
       "74                  Israël                                        3610.000\n",
       "72                 Irlande                                        3602.000\n",
       "75                  Italie                                        3578.000\n",
       "89              Luxembourg                                        3540.000\n",
       "168                 Égypte                                        3518.000\n",
       "4                Allemagne                                        3503.000"
      ]
     },
     "execution_count": 28,
     "metadata": {},
     "output_type": "execute_result"
    }
   ],
   "source": [
    "dispo_alimentaire_r9 = dispo_alimentaire.groupby(\"Pays\")[\"Disponibilité alimentaire (Kcal/personne/jour)\"].sum().reset_index()\n",
    "dispo_alimentaire_classement_decroissant = dispo_alimentaire_r9.sort_values(\"Disponibilité alimentaire (Kcal/personne/jour)\", ascending=False)\n",
    "top_10_pays_dispo_alimentaire91 = dispo_alimentaire_classement_decroissant.head(10)\n",
    "top_10_pays_dispo_alimentaire91[\"Pays\"].tolist()\n",
    "top_10_pays_dispo_alimentaire91.head(10)"
   ]
  },
  {
   "cell_type": "markdown",
   "id": "3296e58b",
   "metadata": {},
   "source": [
    "### Plus faible disponibilité alimentaire"
   ]
  },
  {
   "cell_type": "code",
   "execution_count": 29,
   "id": "b8abc486",
   "metadata": {},
   "outputs": [
    {
     "data": {
      "text/html": [
       "<div>\n",
       "<style scoped>\n",
       "    .dataframe tbody tr th:only-of-type {\n",
       "        vertical-align: middle;\n",
       "    }\n",
       "\n",
       "    .dataframe tbody tr th {\n",
       "        vertical-align: top;\n",
       "    }\n",
       "\n",
       "    .dataframe thead th {\n",
       "        text-align: right;\n",
       "    }\n",
       "</style>\n",
       "<table border=\"1\" class=\"dataframe\">\n",
       "  <thead>\n",
       "    <tr style=\"text-align: right;\">\n",
       "      <th></th>\n",
       "      <th>Pays</th>\n",
       "      <th>Disponibilité alimentaire (Kcal/personne/jour)</th>\n",
       "    </tr>\n",
       "  </thead>\n",
       "  <tbody>\n",
       "    <tr>\n",
       "      <th>128</th>\n",
       "      <td>République centrafricaine</td>\n",
       "      <td>1879.000</td>\n",
       "    </tr>\n",
       "    <tr>\n",
       "      <th>166</th>\n",
       "      <td>Zambie</td>\n",
       "      <td>1924.000</td>\n",
       "    </tr>\n",
       "    <tr>\n",
       "      <th>91</th>\n",
       "      <td>Madagascar</td>\n",
       "      <td>2056.000</td>\n",
       "    </tr>\n",
       "    <tr>\n",
       "      <th>0</th>\n",
       "      <td>Afghanistan</td>\n",
       "      <td>2087.000</td>\n",
       "    </tr>\n",
       "    <tr>\n",
       "      <th>65</th>\n",
       "      <td>Haïti</td>\n",
       "      <td>2089.000</td>\n",
       "    </tr>\n",
       "    <tr>\n",
       "      <th>133</th>\n",
       "      <td>République populaire démocratique de Corée</td>\n",
       "      <td>2093.000</td>\n",
       "    </tr>\n",
       "    <tr>\n",
       "      <th>151</th>\n",
       "      <td>Tchad</td>\n",
       "      <td>2109.000</td>\n",
       "    </tr>\n",
       "    <tr>\n",
       "      <th>167</th>\n",
       "      <td>Zimbabwe</td>\n",
       "      <td>2113.000</td>\n",
       "    </tr>\n",
       "    <tr>\n",
       "      <th>114</th>\n",
       "      <td>Ouganda</td>\n",
       "      <td>2126.000</td>\n",
       "    </tr>\n",
       "    <tr>\n",
       "      <th>154</th>\n",
       "      <td>Timor-Leste</td>\n",
       "      <td>2129.000</td>\n",
       "    </tr>\n",
       "  </tbody>\n",
       "</table>\n",
       "</div>"
      ],
      "text/plain": [
       "                                           Pays  \\\n",
       "128                   République centrafricaine   \n",
       "166                                      Zambie   \n",
       "91                                   Madagascar   \n",
       "0                                   Afghanistan   \n",
       "65                                        Haïti   \n",
       "133  République populaire démocratique de Corée   \n",
       "151                                       Tchad   \n",
       "167                                    Zimbabwe   \n",
       "114                                     Ouganda   \n",
       "154                                 Timor-Leste   \n",
       "\n",
       "     Disponibilité alimentaire (Kcal/personne/jour)  \n",
       "128                                        1879.000  \n",
       "166                                        1924.000  \n",
       "91                                         2056.000  \n",
       "0                                          2087.000  \n",
       "65                                         2089.000  \n",
       "133                                        2093.000  \n",
       "151                                        2109.000  \n",
       "167                                        2113.000  \n",
       "114                                        2126.000  \n",
       "154                                        2129.000  "
      ]
     },
     "execution_count": 29,
     "metadata": {},
     "output_type": "execute_result"
    }
   ],
   "source": [
    "dispo_alimentaire_r9 = dispo_alimentaire.groupby(\"Pays\")[\"Disponibilité alimentaire (Kcal/personne/jour)\"].sum().reset_index()\n",
    "dispo_alimentaire_classement_croissant = dispo_alimentaire_r9.sort_values(\"Disponibilité alimentaire (Kcal/personne/jour)\", ascending=True)\n",
    "top_10_pays_dispo_alimentaire92 = dispo_alimentaire_classement_croissant.head(10)\n",
    "top_10_pays_dispo_alimentaire92[\"Pays\"].tolist()\n",
    "top_10_pays_dispo_alimentaire92.head(10)"
   ]
  },
  {
   "cell_type": "markdown",
   "id": "b48e7f43",
   "metadata": {},
   "source": [
    "#### Graphique"
   ]
  },
  {
   "cell_type": "code",
   "execution_count": 30,
   "id": "31b2f3a0",
   "metadata": {},
   "outputs": [
    {
     "data": {
      "text/plain": [
       "Text(0, 0.5, 'Pays')"
      ]
     },
     "execution_count": 30,
     "metadata": {},
     "output_type": "execute_result"
    },
    {
     "data": {
      "image/png": "[encoded data removed]",
      "text/plain": [
       "<Figure size 640x480 with 1 Axes>"
      ]
     },
     "metadata": {},
     "output_type": "display_data"
    }
   ],
   "source": [
    "top_10_pays_r9 = dispo_alimentaire_classement_decroissant.iloc[:10]\n",
    "pire_10_pays_r9 = dispo_alimentaire_classement_croissant.iloc[:10]\n",
    "nouvelle_table = pd.concat([pire_10_pays_r9, top_10_pays_r9])\n",
    "\n",
    "plt.barh(nouvelle_table[\"Pays\"][::-1], nouvelle_table[\"Disponibilité alimentaire (Kcal/personne/jour)\"][::-1])\n",
    "plt.title(\"Top 10 des pays avec la plus forte/faible disponibilité alimentaire par habitant\\n\")\n",
    "plt.xlabel(\"Disponibilité alimentaire (kcal/jour)\")\n",
    "plt.ylabel(\"Pays\")"
   ]
  },
  {
   "cell_type": "markdown",
   "id": "bd0cc1b7",
   "metadata": {},
   "source": [
    "## Informations complémentaires"
   ]
  },
  {
   "cell_type": "markdown",
   "id": "1a5a113e",
   "metadata": {},
   "source": [
    "#### Le nombre de personnes qui sont en état de sous-nutrition en Thaïlande"
   ]
  },
  {
   "cell_type": "code",
   "execution_count": 31,
   "id": "a4f49886",
   "metadata": {},
   "outputs": [
    {
     "name": "stdout",
     "output_type": "stream",
     "text": [
      "Le nombre de personnes qui sont en état de sous-nutrition en Thaîlande est de 6.5 millions.\n"
     ]
    }
   ],
   "source": [
    "sous_nutrition_thailande = sous_nutrition[(sous_nutrition[\"Pays\"] == \"Thaïlande\") & (sous_nutrition[\"Année\"] == \"2017-2019\") & (sous_nutrition[\"Nombre individus sous-alimentés\"] != \"<0.1\")].copy()\n",
    "sous_nutrition_thailande[\"Nombre individus sous-alimentés\"] = sous_nutrition_thailande[\"Nombre individus sous-alimentés\"].astype(float)\n",
    "nombre_pour_2018_thailande = sous_nutrition_thailande[\"Nombre individus sous-alimentés\"].sum()\n",
    "nombre_arrondi_pour_2018_thailande = round(nombre_pour_2018_thailande, 6)\n",
    "print(\"Le nombre de personnes qui sont en état de sous-nutrition en Thaïlande est de {:.1f} millions.\".format(nombre_arrondi_pour_2018_thailande))"
   ]
  },
  {
   "cell_type": "markdown",
   "id": "4dd3931c",
   "metadata": {},
   "source": [
    "#### Pourcentage de la population en état de sous-nutrition en Thaïlande"
   ]
  },
  {
   "cell_type": "code",
   "execution_count": 32,
   "id": "05c07ff0",
   "metadata": {},
   "outputs": [
    {
     "name": "stdout",
     "output_type": "stream",
     "text": [
      "           Pays      Année  Nombre individus sous-alimentés  \\\n",
      "1115  Thaïlande  2017-2019                            6.500   \n",
      "\n",
      "      Part de personnes en sous-nutrition  \n",
      "1115                                9.539  \n"
     ]
    }
   ],
   "source": [
    "population_thailande = population[population[\"Pays\"] == \"Thaïlande\"].copy()\n",
    "valeur_population_thailande = population_thailande[\"Nombre habitants\"].values[0]\n",
    "sous_nutrition_thailande[\"Part de personnes en sous-nutrition\"] = (sous_nutrition_thailande[\"Nombre individus sous-alimentés\"] / valeur_population_thailande) * 100\n",
    "print(sous_nutrition_thailande)"
   ]
  },
  {
   "cell_type": "markdown",
   "id": "11789da0",
   "metadata": {},
   "source": [
    "#### Etude sur le manioc"
   ]
  },
  {
   "cell_type": "code",
   "execution_count": 33,
   "id": "42297888",
   "metadata": {},
   "outputs": [
    {
     "name": "stdout",
     "output_type": "stream",
     "text": [
      "Exportations de manioc en Thaïlande : 25.2 millions de tonnes\n",
      "Production de manioc en Thaïlande : 30.2 millions de tonnes\n"
     ]
    }
   ],
   "source": [
    "manioc_thailande = dispo_alimentaire[(dispo_alimentaire[\"Pays\"] == \"Thaïlande\") & (dispo_alimentaire[\"Produit\"] == \"Manioc\")]\n",
    "exportations = manioc_thailande[\"Exportations - Quantité\"].sum() / 1000\n",
    "production = manioc_thailande[\"Production\"].sum() / 1000\n",
    "print(\"Exportations de manioc en Thaïlande : {:.1f} millions de tonnes\".format(exportations))\n",
    "print(\"Production de manioc en Thaïlande : {:.1f} millions de tonnes\".format(production))"
   ]
  },
  {
   "cell_type": "markdown",
   "id": "00da8458",
   "metadata": {},
   "source": [
    "#### La disponibilité alimentaire en Thaïlande"
   ]
  },
  {
   "cell_type": "code",
   "execution_count": 34,
   "id": "49a57b31",
   "metadata": {},
   "outputs": [
    {
     "name": "stdout",
     "output_type": "stream",
     "text": [
      "La disponibilité alimentaire par habitant en Thaïlande est de 2785.0 Kcal/personne/jour.\n"
     ]
    }
   ],
   "source": [
    "dispo_thailande = dispo_alimentaire[dispo_alimentaire[\"Pays\"] == \"Thaïlande\"]\n",
    "dispo_par_habitant_thailande = dispo_thailande[\"Disponibilité alimentaire (Kcal/personne/jour)\"].sum()\n",
    "print(\"La disponibilité alimentaire par habitant en Thaïlande est de {:.1f} Kcal/personne/jour.\".format(dispo_par_habitant_thailande))"
   ]
  },
  {
   "cell_type": "markdown",
   "id": "b8adde87",
   "metadata": {},
   "source": [
    "#### Le produit le plus souvent perdu"
   ]
  },
  {
   "cell_type": "code",
   "execution_count": 35,
   "id": "430ab0eb",
   "metadata": {},
   "outputs": [
    {
     "name": "stdout",
     "output_type": "stream",
     "text": [
      "Le produit le plus souvent perdu sont les Légumes, Autres\n"
     ]
    }
   ],
   "source": [
    "produit_pertes_compte = dispo_alimentaire.groupby(\"Produit\")[\"Pertes\"].sum().sort_values(ascending=False)\n",
    "produit_plus_perdu = produit_pertes_compte.index[0]\n",
    "print(\"Le produit le plus souvent perdu sont les\", produit_plus_perdu)"
   ]
  },
  {
   "cell_type": "markdown",
   "id": "147961ae",
   "metadata": {},
   "source": [
    "#### L'évolution de la population mondiale entre 2013 et 2018"
   ]
  },
  {
   "cell_type": "code",
   "execution_count": 36,
   "id": "01e81bed",
   "metadata": {},
   "outputs": [
    {
     "name": "stdout",
     "output_type": "stream",
     "text": [
      "L'évolution de la population mondiale entre 2013 et 2018 est de 5.83%\n"
     ]
    }
   ],
   "source": [
    "population_2013 = population[population[\"Année\"] == 2013]\n",
    "population_2018 = population[population[\"Année\"] == 2018]\n",
    "population_totale_2013 = population_2013[\"Nombre habitants\"].sum()\n",
    "population_totale_2018 = population_2018[\"Nombre habitants\"].sum()\n",
    "difference_population = population_totale_2018 - population_totale_2013\n",
    "taux_evolution = (difference_population / population_totale_2013) * 100\n",
    "print(\"L'évolution de la population mondiale entre 2013 et 2018 est de {:.2f}%\".format(taux_evolution))"
   ]
  },
  {
   "cell_type": "markdown",
   "id": "72da0929",
   "metadata": {},
   "source": [
    "#### Les pourcentages de produits d'origine animale et végétale"
   ]
  },
  {
   "cell_type": "code",
   "execution_count": 37,
   "id": "d212335e",
   "metadata": {},
   "outputs": [
    {
     "name": "stdout",
     "output_type": "stream",
     "text": [
      "Le pourcentage de produits d'origine animale est de 23.8 %\n",
      "Le pourcentage de produits d'origine végétale est de 76.2 %\n"
     ]
    }
   ],
   "source": [
    "compte_origine_ic = dispo_alimentaire[\"Origine\"].value_counts()\n",
    "compte_animal_ic = compte_origine_ic[\"animale\"]\n",
    "compte_vegetal_ic = compte_origine_ic[\"vegetale\"]\n",
    "pourcentage_animale_ic = (compte_animal_ic / (compte_animal_ic + compte_vegetal_ic)) * 100\n",
    "pourcentage_vegetale_ic = (compte_vegetal_ic / (compte_animal_ic + compte_vegetal_ic)) * 100\n",
    "print(\"Le pourcentage de produits d'origine animale est de {:.1f} %\".format(pourcentage_animale_ic))\n",
    "print(\"Le pourcentage de produits d'origine végétale est de {:.1f} %\".format(pourcentage_vegetale_ic))"
   ]
  }
 ],
 "metadata": {
  "kernelspec": {
   "display_name": "Python 3 (ipykernel)",
   "language": "python",
   "name": "python3"
  },
  "language_info": {
   "codemirror_mode": {
    "name": "ipython",
    "version": 3
   },
   "file_extension": ".py",
   "mimetype": "text/x-python",
   "name": "python",
   "nbconvert_exporter": "python",
   "pygments_lexer": "ipython3",
   "version": "3.10.9"
  }
 },
 "nbformat": 4,
 "nbformat_minor": 5
}
